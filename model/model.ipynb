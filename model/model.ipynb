{
 "cells": [
  {
   "cell_type": "code",
   "execution_count": 25,
   "metadata": {},
   "outputs": [
    {
     "name": "stdout",
     "output_type": "stream",
     "text": [
      "https://na.network-auth.com/splash/yyaSkcK.8.470/?mac=E0%3A55%3A3D%3A19%3AC1%3AA0&real_ip=192.168.1.143&client_ip=10.216.110.226&client_mac=3C:06:30:14:AB:B8&vap=8&a=601ca99d55f00a2e8e736676b606a4d31d374fdd&b=780703&auth_version=5&key=5f18a6452fc06b52dde10cc742676c8a0ad1fc9b&acl_ver=P1994574V2&continue_url=http%3A%2F%2Fwww.chefkoch.de%2Frs%2Fs30o3%2FRezepte.html\n"
     ]
    }
   ],
   "source": [
    "import requests\n",
    "from bs4 import BeautifulSoup\n",
    "\n",
    "CHEFKOCH_URL = 'http://www.chefkoch.de'\n",
    "START_URL = 'http://www.chefkoch.de/rs/s'\n",
    "CATEGORY = '/Rezepte.html'\n",
    "url = START_URL + '30o3' + CATEGORY\n",
    "\n",
    "# Send a GET request to the URL and retrieve the HTML content\n",
    "response = requests.get(url)\n",
    "html_content = response.text\n",
    "print(response)\n",
    "\n",
    "# Create a BeautifulSoup object to parse the HTML\n",
    "soup = BeautifulSoup(html_content, 'html.parser')\n",
    "\n",
    "# Find all the recipe titles on the page\n",
    "recipe_titles = soup.find_all('h2', class_='ds-heading')\n",
    "\n",
    "# Extract the text of each recipe title and print it\n",
    "for title in recipe_titles:\n",
    "    print(title.text.strip())\n"
   ]
  }
 ],
 "metadata": {
  "kernelspec": {
   "display_name": "Python 3",
   "language": "python",
   "name": "python3"
  },
  "language_info": {
   "codemirror_mode": {
    "name": "ipython",
    "version": 3
   },
   "file_extension": ".py",
   "mimetype": "text/x-python",
   "name": "python",
   "nbconvert_exporter": "python",
   "pygments_lexer": "ipython3",
   "version": "3.11.3"
  },
  "orig_nbformat": 4
 },
 "nbformat": 4,
 "nbformat_minor": 2
}
