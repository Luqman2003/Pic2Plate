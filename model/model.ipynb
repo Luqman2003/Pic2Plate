{
 "cells": [
  {
   "cell_type": "code",
   "execution_count": 4,
   "metadata": {},
   "outputs": [
    {
     "name": "stdout",
     "output_type": "stream",
     "text": [
      "Connection refused\n",
      "Connection refused\n",
      "Connection refused\n",
      "Connection refused\n",
      "Connection refused\n",
      "Connection refused\n",
      "Connection refused\n",
      "Connection refused\n",
      "Connection refused\n"
     ]
    }
   ],
   "source": [
    "# Chefkoch.de Website\n",
    "import requests\n",
    "import time\n",
    "from bs4 import BeautifulSoup\n",
    "\n",
    "CHEFKOCH_URL  = 'http://www.chefkoch.de'\n",
    "START_URL     = 'http://www.chefkoch.de/rs/s1'\n",
    "CATEGORY      = '/Rezepte.html'\n",
    "category_url = START_URL + '0o3' + CATEGORY\n",
    "\n",
    "def _get_html(url):\n",
    "    page = ''\n",
    "    while page == '':\n",
    "        try:\n",
    "            page = requests.get(url, headers=random_headers())\n",
    "        except:\n",
    "            print('Connection refused')\n",
    "            time.sleep(10)\n",
    "            continue\n",
    "    return page.text\n",
    "\n",
    "def _get_total_pages(html):\n",
    "    soup = BeautifulSoup(html, 'lxml')\n",
    "    total_pages = soup.find('div', class_='ck-pagination qa-pagination').find('a', class_='qa-pagination-pagelink-last').text\n",
    "    return int(total_pages)\n",
    "\n",
    "html_text_total_pages = _get_html(category_url)\n",
    "total_pages = _get_total_pages(html_text_total_pages)\n",
    "print('Total pages: ', total_pages)"
   ]
  }
 ],
 "metadata": {
  "kernelspec": {
   "display_name": "Python 3",
   "language": "python",
   "name": "python3"
  },
  "language_info": {
   "codemirror_mode": {
    "name": "ipython",
    "version": 3
   },
   "file_extension": ".py",
   "mimetype": "text/x-python",
   "name": "python",
   "nbconvert_exporter": "python",
   "pygments_lexer": "ipython3",
   "version": "3.11.3"
  },
  "orig_nbformat": 4
 },
 "nbformat": 4,
 "nbformat_minor": 2
}
